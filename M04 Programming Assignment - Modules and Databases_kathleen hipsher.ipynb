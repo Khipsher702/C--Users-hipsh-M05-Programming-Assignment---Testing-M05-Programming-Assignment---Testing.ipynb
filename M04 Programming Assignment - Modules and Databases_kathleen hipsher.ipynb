{
 "cells": [
  {
   "cell_type": "markdown",
   "metadata": {},
   "source": [
    " # zoo.py\n",
    "def hours():\n",
    "    print(\"Open 9-5 daily\")"
   ]
  },
  {
   "cell_type": "markdown",
   "metadata": {},
   "source": []
  }
 ],
 "metadata": {
  "language_info": {
   "name": "python"
  }
 },
 "nbformat": 4,
 "nbformat_minor": 2
}
